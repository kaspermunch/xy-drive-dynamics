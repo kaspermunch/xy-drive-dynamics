{
 "cells": [
  {
   "cell_type": "code",
   "execution_count": 1,
   "metadata": {
    "collapsed": false,
    "jupyter": {
     "outputs_hidden": false
    }
   },
   "outputs": [
    {
     "data": {
      "image/png": "[encoded data removed]",
      "text/plain": [
       "<matplotlib.figure.Figure at 0x10589fe10>"
      ]
     },
     "metadata": {},
     "output_type": "display_data"
    }
   ],
   "source": [
    "rb = 0.6 # frequency of females for allele in population\n",
    "rm = 0.45 # frequency of females for mutant allele\n",
    "N = 10000.0 # population size\n",
    "\n",
    "def Pm(i): return rm * (frq(i) * (1-rm) + (1-frq(i)) * (1-rb))  +  (1-rm) * (frq(i) * rm + (1-frq(i)) * rb)\n",
    "\n",
    "def Pb(i): return rb * (frq(i) * (1-rm) + (1-frq(i)) * (1-rb))  +  (1-rb) * (frq(i) * rm + (1-frq(i)) * rb)\n",
    "\n",
    "cache = dict()\n",
    "\n",
    "def frq(i):\n",
    "    if i in cache:\n",
    "        return cache[i]\n",
    "    else:\n",
    "        if i == 0:\n",
    "            r = 1/10000.0\n",
    "        else:\n",
    "            #print Pm(i-1), Pb(i-1)\n",
    "            r = frq(i-1) * Pm(i-1) / Pb(i-1)\n",
    "        cache[i] = r\n",
    "        return r\n",
    "n = 500\n",
    "plot(range(n), map(frq, range(n)))\n",
    "show()"
   ]
  },
  {
   "cell_type": "code",
   "execution_count": null,
   "metadata": {
    "collapsed": false,
    "jupyter": {
     "outputs_hidden": false
    }
   },
   "outputs": [],
   "source": []
  }
 ],
 "metadata": {
  "kernelspec": {
   "display_name": "Python 3 (ipykernel)",
   "language": "python",
   "name": "python3"
  },
  "language_info": {
   "codemirror_mode": {
    "name": "ipython",
    "version": 3
   },
   "file_extension": ".py",
   "mimetype": "text/x-python",
   "name": "python",
   "nbconvert_exporter": "python",
   "pygments_lexer": "ipython3",
   "version": "3.10.5"
  }
 },
 "nbformat": 4,
 "nbformat_minor": 4
}
